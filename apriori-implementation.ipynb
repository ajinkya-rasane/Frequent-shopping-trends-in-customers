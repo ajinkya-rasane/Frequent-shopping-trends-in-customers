{
 "cells": [
  {
   "cell_type": "code",
   "execution_count": 1,
   "metadata": {},
   "outputs": [],
   "source": [
    "import numpy as np\n",
    "import pandas as pd\n",
    "import copy\n",
    "\n",
    "df = pd.read_csv(\"groceries.csv\")\n",
    "data = []\n",
    "for row in range(0,9834):\n",
    "    temp = []\n",
    "    for item in df.iloc[row]:\n",
    "        if(item == item):\n",
    "            temp.append(item)\n",
    "    data.append(temp)        "
   ]
  },
  {
   "cell_type": "code",
   "execution_count": 2,
   "metadata": {},
   "outputs": [],
   "source": [
    "supportThreshold = 1.0\n",
    "confiThreshold = .5"
   ]
  },
  {
   "cell_type": "code",
   "execution_count": 3,
   "metadata": {},
   "outputs": [],
   "source": [
    "def support(data,element):\n",
    "    count = 0;\n",
    "    for row in data:\n",
    "        flag = 0\n",
    "        item = list(element)\n",
    "        for item in element:\n",
    "            if item not in row:\n",
    "                flag = 1\n",
    "        if flag == 0:\n",
    "            count+=1\n",
    "    return count * 100/len(data)"
   ]
  },
  {
   "cell_type": "code",
   "execution_count": 4,
   "metadata": {},
   "outputs": [],
   "source": [
    "def unique_items(data):\n",
    "    temp = set()\n",
    "    for row in data:\n",
    "        for item in row:\n",
    "            temp.add(item)\n",
    "    return temp;"
   ]
  },
  {
   "cell_type": "code",
   "execution_count": 5,
   "metadata": {},
   "outputs": [],
   "source": [
    "def initial_items(unq):\n",
    "    strt = []\n",
    "    for item in unq:\n",
    "        item = [item]\n",
    "        if support(data,item) >= supportThreshold:\n",
    "            item = set(item)\n",
    "            strt.append(item)\n",
    "    return strt"
   ]
  },
  {
   "cell_type": "code",
   "execution_count": 6,
   "metadata": {},
   "outputs": [],
   "source": [
    "def separate(itemset):\n",
    "    _ = set()\n",
    "    for i in itemset:\n",
    "        for item in i:\n",
    "            _.add(item)\n",
    "    return list(_)"
   ]
  },
  {
   "cell_type": "code",
   "execution_count": 7,
   "metadata": {},
   "outputs": [],
   "source": [
    "def unique_list(L):\n",
    "    return [set(item) for item in set(frozenset(item) for item in L)]\n",
    "\n",
    "def joinSet(itemSet):\n",
    "    itemList = separate(itemSet)\n",
    "    result = []\n",
    "    for Set in itemSet:\n",
    "        for item in itemList:\n",
    "            temp = copy.copy(Set)\n",
    "            if item in temp:\n",
    "                continue\n",
    "            temp.add(item)\n",
    "            if temp in result:\n",
    "                continue\n",
    "            result.append(temp)\n",
    "    return result"
   ]
  },
  {
   "cell_type": "code",
   "execution_count": 8,
   "metadata": {},
   "outputs": [],
   "source": [
    "def prune(C, L):\n",
    "    res = []\n",
    "    for Set in C:\n",
    "        ok = True\n",
    "        for item in Set:\n",
    "            if ok == False:\n",
    "                break\n",
    "            _set = copy.copy(Set)\n",
    "            _set.remove(item)\n",
    "            if _set not in L:\n",
    "                ok = False\n",
    "        if ok:\n",
    "            res.append(Set)\n",
    "    return res"
   ]
  },
  {
   "cell_type": "code",
   "execution_count": 9,
   "metadata": {},
   "outputs": [],
   "source": [
    "def SetToStr(S):\n",
    "    _str = ''\n",
    "    for item in S:\n",
    "        _str += item\n",
    "        _str += ','\n",
    "    _str = _str[:-1]\n",
    "    return '{' + _str + '}' + '[' + str(round(0.01 * len(data) * support(data, S))) + ']'\n",
    "\n",
    "def convert(S, T):\n",
    "    return SetToStr(S) + ' => ' + SetToStr(T)"
   ]
  },
  {
   "cell_type": "code",
   "execution_count": 10,
   "metadata": {},
   "outputs": [],
   "source": [
    "def getConfidences(confidences, Set):\n",
    "    \n",
    "    _set = list(Set)\n",
    "    n = len(_set)\n",
    "    invalid = set()\n",
    "    \n",
    "    for mask in range(1 << n):\n",
    "        _tmp = set()\n",
    "        _tmp_ = set()\n",
    "        \n",
    "        ok = True\n",
    "        for submask in invalid:\n",
    "            if mask&submask == mask:\n",
    "                ok = False\n",
    "        if not ok:\n",
    "            continue\n",
    "        \n",
    "        for i in range(n):\n",
    "            if (1 << i) & mask:\n",
    "                _tmp_.add(_set[i])\n",
    "            else:\n",
    "                _tmp.add(_set[i])\n",
    "\n",
    "        if len(_tmp) == 0 or len(_tmp_) == 0:\n",
    "            continue\n",
    "        confi = support(data, Set) / support(data, _tmp)\n",
    "\n",
    "        if (confi < confiThreshold):\n",
    "            invalid.add(mask)\n",
    "        else:\n",
    "            confidences[convert(_tmp, _tmp_)] = confi"
   ]
  },
  {
   "cell_type": "code",
   "execution_count": 11,
   "metadata": {},
   "outputs": [],
   "source": [
    "def Apriori(confidences, start, file):\n",
    "    L = start[:]\n",
    "    C = []\n",
    "    C = joinSet(L)\n",
    "    C = prune(C, L)\n",
    "    Lnext = []\n",
    "    for _set in C:\n",
    "        if support(data,list(_set)) >= supportThreshold:\n",
    "            Lnext.append(_set)\n",
    "    if len(Lnext) == 0:\n",
    "        return L\n",
    "    else:\n",
    "        print(len(Lnext))\n",
    "        for Set in Lnext:\n",
    "            file.write(SetToStr(Set))\n",
    "            file.write('\\n')\n",
    "            getConfidences(confidences, Set)\n",
    "        return Apriori(confidences, Lnext, file)"
   ]
  },
  {
   "cell_type": "code",
   "execution_count": 12,
   "metadata": {},
   "outputs": [],
   "source": [
    "uni = unique_items(data)"
   ]
  },
  {
   "cell_type": "code",
   "execution_count": 13,
   "metadata": {},
   "outputs": [],
   "source": [
    "init = initial_items(uni)"
   ]
  },
  {
   "cell_type": "code",
   "execution_count": 14,
   "metadata": {},
   "outputs": [
    {
     "name": "stdout",
     "output_type": "stream",
     "text": [
      "213\n",
      "32\n"
     ]
    }
   ],
   "source": [
    "confidences = dict()\n",
    "file = open('freq_itemset_sup=1_conf=5e-1.txt', 'w')\n",
    "res = Apriori(confidences, init, file)\n",
    "file.close()"
   ]
  },
  {
   "cell_type": "code",
   "execution_count": 15,
   "metadata": {},
   "outputs": [],
   "source": [
    "with open('assn_rules_sup=1_conf=5e-1.txt', 'w') as file:\n",
    "    for a in confidences:\n",
    "        file.write(a)\n",
    "        file.write('  || confidence = ' + str(confidences[a]))\n",
    "        file.write('\\n')"
   ]
  },
  {
   "cell_type": "code",
   "execution_count": null,
   "metadata": {},
   "outputs": [],
   "source": []
  },
  {
   "cell_type": "code",
   "execution_count": null,
   "metadata": {},
   "outputs": [],
   "source": []
  }
 ],
 "metadata": {
  "kernelspec": {
   "display_name": "Python 3",
   "language": "python",
   "name": "python3"
  },
  "language_info": {
   "codemirror_mode": {
    "name": "ipython",
    "version": 3
   },
   "file_extension": ".py",
   "mimetype": "text/x-python",
   "name": "python",
   "nbconvert_exporter": "python",
   "pygments_lexer": "ipython3",
   "version": "3.6.4"
  }
 },
 "nbformat": 4,
 "nbformat_minor": 2
}
